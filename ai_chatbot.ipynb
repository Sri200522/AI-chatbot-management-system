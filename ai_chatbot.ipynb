{
  "nbformat": 4,
  "nbformat_minor": 0,
  "metadata": {
    "colab": {
      "provenance": [],
      "authorship_tag": "ABX9TyOqjIBSjxnMfIQ6iEMnYgHn",
      "include_colab_link": true
    },
    "kernelspec": {
      "name": "python3",
      "display_name": "Python 3"
    },
    "language_info": {
      "name": "python"
    }
  },
  "cells": [
    {
      "cell_type": "markdown",
      "metadata": {
        "id": "view-in-github",
        "colab_type": "text"
      },
      "source": [
        "<a href=\"https://colab.research.google.com/github/Sri200522/AI-chatbot-management-system/blob/main/ai_chatbot.ipynb\" target=\"_parent\"><img src=\"https://colab.research.google.com/assets/colab-badge.svg\" alt=\"Open In Colab\"/></a>"
      ]
    },
    {
      "cell_type": "code",
      "execution_count": null,
      "metadata": {
        "colab": {
          "base_uri": "https://localhost:8080/"
        },
        "id": "48laYJY4bEjt",
        "outputId": "ccff81cc-ee3d-468f-f6fe-7efbe8ab6e79"
      },
      "outputs": [
        {
          "output_type": "stream",
          "name": "stdout",
          "text": [
            "Requirement already satisfied: flask in /usr/local/lib/python3.11/dist-packages (3.1.0)\n",
            "Requirement already satisfied: Werkzeug>=3.1 in /usr/local/lib/python3.11/dist-packages (from flask) (3.1.3)\n",
            "Requirement already satisfied: Jinja2>=3.1.2 in /usr/local/lib/python3.11/dist-packages (from flask) (3.1.5)\n",
            "Requirement already satisfied: itsdangerous>=2.2 in /usr/local/lib/python3.11/dist-packages (from flask) (2.2.0)\n",
            "Requirement already satisfied: click>=8.1.3 in /usr/local/lib/python3.11/dist-packages (from flask) (8.1.8)\n",
            "Requirement already satisfied: blinker>=1.9 in /usr/local/lib/python3.11/dist-packages (from flask) (1.9.0)\n",
            "Requirement already satisfied: MarkupSafe>=2.0 in /usr/local/lib/python3.11/dist-packages (from Jinja2>=3.1.2->flask) (3.0.2)\n"
          ]
        }
      ],
      "source": [
        "!pip install flask"
      ]
    },
    {
      "cell_type": "code",
      "source": [
        "import random\n",
        "\n",
        "# Simple rule-based chatbot responses\n",
        "responses = {\n",
        "    \"hello\": [\"Hi there!\", \"Hello!\", \"Greetings!\"],\n",
        "    \"how are you?\": [\"I'm just a computer program, but thanks for asking!\", \"Doing well, how about you?\"],\n",
        "    \"bye\": [\"Goodbye!\", \"See you later!\", \"Take care!\"],\n",
        "}\n",
        "\n",
        "def get_bot_response(message):\n",
        "    message = message.lower()\n",
        "    for key in responses.keys():\n",
        "        if key in message:\n",
        "            return random.choice(responses[key])\n",
        "    return \"I'm sorry, I don't understand that.\"\n",
        "\n",
        "# Simulated chat session\n",
        "def chat_with_bot(messages):\n",
        "    print(\"Welcome to the AI Chatbot! Type 'bye' to exit.\")\n",
        "    for user_input in messages:\n",
        "        print(f\"You: {user_input}\")\n",
        "        if user_input.lower() == 'bye':\n",
        "            print(\"Bot: Goodbye!\")\n",
        "            break\n",
        "        response = get_bot_response(user_input)\n",
        "        print(f\"Bot: {response}\")\n",
        "\n",
        "# Example messages to simulate the chat\n",
        "example_messages = [\n",
        "    \"hello\",\n",
        "    \"how are you?\",\n",
        "    \"what is your name?\",\n",
        "    \"bye\"\n",
        "]\n",
        "\n",
        "# Start the chat\n",
        "chat_with_bot(example_messages)"
      ],
      "metadata": {
        "colab": {
          "base_uri": "https://localhost:8080/"
        },
        "id": "niKQAfLQd2RQ",
        "outputId": "eedc045a-c61f-4eeb-8856-5f6da8a5dcaf"
      },
      "execution_count": null,
      "outputs": [
        {
          "output_type": "stream",
          "name": "stdout",
          "text": [
            "Welcome to the AI Chatbot! Type 'bye' to exit.\n",
            "You: hello\n",
            "Bot: Hello!\n",
            "You: how are you?\n",
            "Bot: I'm just a computer program, but thanks for asking!\n",
            "You: what is your name?\n",
            "Bot: I'm sorry, I don't understand that.\n",
            "You: bye\n",
            "Bot: Goodbye!\n"
          ]
        }
      ]
    }
  ]
}